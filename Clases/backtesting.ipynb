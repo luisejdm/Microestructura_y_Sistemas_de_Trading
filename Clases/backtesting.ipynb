{
 "cells": [
  {
   "cell_type": "code",
   "execution_count": 1,
   "id": "9665c632",
   "metadata": {},
   "outputs": [],
   "source": [
    "import pandas as pd\n",
    "import matplotlib.pyplot as plt\n",
    "import seaborn as sns\n",
    "import ta\n",
    "import numpy as np\n",
    "import optuna\n",
    "from dataclasses import dataclass\n",
    "\n",
    "import logging\n",
    "optuna.logging.set_verbosity(optuna.logging.WARNING)\n",
    "\n",
    "sns.set_theme()\n",
    "\n",
    "plt.rcParams['figure.figsize'] = [12, 6]\n",
    "plt.rcParams['axes.titlesize'] = 16\n",
    "plt.rcParams['axes.labelsize'] = 14\n",
    "plt.rcParams['axes.titleweight'] = 'bold'\n",
    "plt.rcParams['grid.alpha'] = 0.3"
   ]
  },
  {
   "cell_type": "markdown",
   "id": "946a2989",
   "metadata": {},
   "source": [
    "# Supuestos\n",
    "\n",
    "+ Comisión = 0.125%\n",
    "+ No hay impuestos\n",
    "+ No apalancamiento\n",
    "+ Cuenta Margen = 50%\n",
    "+ Capital = 1,000,000\n",
    "+ N Shares = 50\n",
    "+ Stop Loss / Take Profit = 6%\n",
    "+ Trades at Close\n",
    "+ Borrow Rate 0.25%"
   ]
  },
  {
   "cell_type": "code",
   "execution_count": 2,
   "id": "37be5540",
   "metadata": {},
   "outputs": [],
   "source": [
    "@dataclass\n",
    "class Position:\n",
    "    \"\"\"\n",
    "    Represents a trading position.\n",
    "    \"\"\"\n",
    "    ticker: str\n",
    "    n_shares: int\n",
    "    price: float\n",
    "    sl: float\n",
    "    tp: float\n",
    "    time: str\n",
    "\n",
    "def get_portfolio_value(capital, long_positions, current_price, n_shares):\n",
    "    # Long positions are valued at current market price\n",
    "    value = capital\n",
    "    value += len(long_positions) * n_shares * current_price\n",
    "\n",
    "    return value\n",
    "\n",
    "def print_results(capital, initial_capital, portfolio_values,\n",
    "                  rsi_lower, rsi_upper, com, stop_loss, take_profit, n_shares,\n",
    "                  initial_margin, maint_margin, borrow_rate, adj_borrow_rate):\n",
    "    print('----------- Bactesting Results -----------')\n",
    "    print('******************************************\\n')\n",
    "\n",
    "    print(f'RSI Limits: Buy below {rsi_lower}, Sell above {rsi_upper}')\n",
    "    print(f'Commission per trade: {com*100:.3f}%')\n",
    "    print(f'Stop Loss: {stop_loss*100:.2f}%')\n",
    "    print(f'Take Profit: {take_profit*100:.2f}%')\n",
    "    print(f'Number of Shares per Trade: {n_shares}')\n",
    "    print(f'Margin Account Requirement: {initial_margin*100:.2f}%')\n",
    "    print(f'Maintenance Margin Requirement: {maint_margin*100:.2f}%')\n",
    "    print(f'Annual Borrow Rate: {borrow_rate*100:.3f}%')\n",
    "    print(f'Adjusted Borrow Rate per 5 min: {adj_borrow_rate*100:.6f}%\\n')\n",
    "\n",
    "    print(f'Initial Capital: ${initial_capital:,.2f}')\n",
    "    print(f'Final Capital: ${capital:,.2f}')\n",
    "    print(f'Net Profit: ${capital - initial_capital:,.2f}')\n",
    "    print(f'Return on Investment: {(capital - initial_capital) / initial_capital * 100:,.2f}%')\n",
    "    print('\\n******************************************')\n",
    "    print('------------------------------------------')\n",
    "\n",
    "    plt.figure()\n",
    "    plt.plot(portfolio_values, label='Portfolio Value', color='cadetblue')\n",
    "    plt.title('Portfolio Value Over Time')\n",
    "    plt.show()"
   ]
  },
  {
   "cell_type": "code",
   "execution_count": 3,
   "id": "cd811c18",
   "metadata": {},
   "outputs": [],
   "source": [
    "data = pd.read_csv('data/aapl_5m_train.csv').dropna()"
   ]
  },
  {
   "cell_type": "markdown",
   "id": "fbf17326",
   "metadata": {},
   "source": [
    "# Optuna Optimization"
   ]
  },
  {
   "cell_type": "code",
   "execution_count": 4,
   "id": "bb005f5e",
   "metadata": {},
   "outputs": [],
   "source": [
    "def objective(trial, data):\n",
    "    data = data.copy()\n",
    "\n",
    "    # Hyperparameters to optimize\n",
    "    rsi_window = trial.suggest_int('rsi_window', 8, 80)\n",
    "    rsi_lower = trial.suggest_int('rsi_lower', 5, 35)\n",
    "    #rsi_upper = trial.suggest_int('rsi_upper', 65, 95)\n",
    "    stop_loss = trial.suggest_float('stop_loss', 0.01, 0.15)\n",
    "    take_profit = trial.suggest_float('take_profit', 0.01, 0.15)\n",
    "    n_shares = trial.suggest_int('n_shares', 5, 500)\n",
    "\n",
    "    rsi_indicator = ta.momentum.RSIIndicator(data.Close, window=rsi_window)\n",
    "    data['rsi'] = rsi_indicator.rsi()\n",
    "    data['buy_signal'] = data['rsi'] < rsi_lower\n",
    "    #data['sell_signal'] = data['rsi'] > rsi_upper\n",
    "    data = data.dropna()\n",
    "\n",
    "    COM = 0.125/100\n",
    "\n",
    "    STOP_LOSS = stop_loss\n",
    "    TAKE_PROFIT = take_profit\n",
    "    N_SHARES = n_shares\n",
    "\n",
    "    capital = 1_000_000\n",
    "    portfolio_value = [capital]\n",
    "\n",
    "    active_long_positions: list[Position] = []\n",
    "    \n",
    "\n",
    "    for i, row in data.iterrows():\n",
    "        # -- LONG ACTIVE ORDERS -- #\n",
    "        for position in active_long_positions.copy():\n",
    "            # Stop Loss or take profit Check\n",
    "            if row.Close > position.tp or row.Close < position.sl:\n",
    "                # Add profits / losses to capital\n",
    "                capital += row.Close * position.n_shares * (1-COM)\n",
    "                #Remove position from active pos\n",
    "                active_long_positions.remove(position)\n",
    "\n",
    "        # -- LONG -- #\n",
    "        # Check Signal\n",
    "        if row.buy_signal:\n",
    "            cost = row.Close * N_SHARES * (1 + COM)\n",
    "            # Do we have enough capital cash?\n",
    "            if capital > cost:\n",
    "                # Discount cash\n",
    "                capital -= cost\n",
    "                # Add position to portfolio\n",
    "                pos = Position(\n",
    "                    ticker='AAPL',\n",
    "                    n_shares=N_SHARES,\n",
    "                    price=row['Close'],\n",
    "                    sl=row['Close'] * (1 - STOP_LOSS),\n",
    "                    tp=row['Close'] * (1 + TAKE_PROFIT),\n",
    "                    time=row['Datetime']\n",
    "                )\n",
    "                active_long_positions.append(pos)\n",
    "\n",
    "        portfolio_value.append(get_portfolio_value(capital, active_long_positions, row.Close, N_SHARES))\n",
    "\n",
    "    #At the end of the backtesting, we should close all active positions\n",
    "    capital += row.Close * len(active_long_positions) * N_SHARES * (1-COM)\n",
    "    active_long_positions = []\n",
    "\n",
    "    df = pd.DataFrame()\n",
    "    df['Value'] = portfolio_value\n",
    "    df['rets'] = df.Value.pct_change()\n",
    "    df.dropna(inplace=True)\n",
    "\n",
    "    mean = df.rets.mean()\n",
    "    std = df.rets.std()\n",
    "    down_risk = df.rets[df.rets < 0].fillna(0).std()\n",
    "\n",
    "    annual_rets = mean * (60 * 6.5 * 252 / 5)\n",
    "    annual_std = std * np.sqrt(60 * 6.5 * 252 / 5)\n",
    "    annual_down_risk = down_risk * np.sqrt(60 * 6.5 * 252 / 5)\n",
    "\n",
    "    #return annual_rets / annual_down_risk if annual_std != 0 else 0 #MAX SORTINO RATIO\n",
    "    #return annual_rets / annual_std if annual_std != 0 else 0 #MAX SHARPE RATIO\n",
    "    return (capital / 1_000_000) - 1  # MAX NET PROFIT"
   ]
  },
  {
   "cell_type": "code",
   "execution_count": 5,
   "id": "b989a766",
   "metadata": {},
   "outputs": [
    {
     "data": {
      "application/vnd.jupyter.widget-view+json": {
       "model_id": "69fcd8688c724144867f732bcbe43577",
       "version_major": 2,
       "version_minor": 0
      },
      "text/plain": [
       "  0%|          | 0/100 [00:00<?, ?it/s]"
      ]
     },
     "metadata": {},
     "output_type": "display_data"
    }
   ],
   "source": [
    "study = optuna.create_study(direction='maximize')\n",
    "study.optimize(lambda trial: objective(trial, data), n_trials=100, n_jobs=1, show_progress_bar=True)"
   ]
  },
  {
   "cell_type": "code",
   "execution_count": 6,
   "id": "4b2116f1",
   "metadata": {},
   "outputs": [
    {
     "data": {
      "text/plain": [
       "{'rsi_window': 45,\n",
       " 'rsi_lower': 29,\n",
       " 'stop_loss': 0.10735825262849782,\n",
       " 'take_profit': 0.12992875847854896,\n",
       " 'n_shares': 485}"
      ]
     },
     "execution_count": 6,
     "metadata": {},
     "output_type": "execute_result"
    }
   ],
   "source": [
    "study.best_params"
   ]
  },
  {
   "cell_type": "code",
   "execution_count": 7,
   "id": "c51d8183",
   "metadata": {},
   "outputs": [
    {
     "data": {
      "text/plain": [
       "0.4188189960784572"
      ]
     },
     "execution_count": 7,
     "metadata": {},
     "output_type": "execute_result"
    }
   ],
   "source": [
    "study.best_value"
   ]
  },
  {
   "cell_type": "markdown",
   "id": "5a68fbfa",
   "metadata": {},
   "source": [
    "# Backtest with optimized hyperparameters"
   ]
  },
  {
   "cell_type": "code",
   "execution_count": 8,
   "id": "82ddae0a",
   "metadata": {},
   "outputs": [],
   "source": [
    "rsi_window = study.best_params['rsi_window']\n",
    "rsi_lower = study.best_params['rsi_lower']\n",
    "#rsi_upper = study.best_params['rsi_upper']\n",
    "STOP_LOSS = study.best_params['stop_loss']\n",
    "TAKE_PROFIT = study.best_params['take_profit']\n",
    "N_SHARES = study.best_params['n_shares']\n",
    "\n",
    "INITIAL_MARGIN = 0.5\n",
    "MAINT_MARGIN = 0.3\n",
    "BORROW_RATE = 0.0125\n",
    "ADJ_BORROW_RATE = BORROW_RATE / (252 * 6.5 * 60 / 5)\n",
    "\n",
    "COM = 0.125/100"
   ]
  },
  {
   "cell_type": "code",
   "execution_count": 9,
   "id": "f70cd2b6",
   "metadata": {},
   "outputs": [
    {
     "data": {
      "text/plain": [
       "(45, 29, 0.10735825262849782, 0.12992875847854896, 485)"
      ]
     },
     "execution_count": 9,
     "metadata": {},
     "output_type": "execute_result"
    }
   ],
   "source": [
    "rsi_window, rsi_lower, STOP_LOSS, TAKE_PROFIT, N_SHARES"
   ]
  },
  {
   "cell_type": "code",
   "execution_count": 10,
   "id": "0b1db4fd",
   "metadata": {},
   "outputs": [],
   "source": [
    "rsi_indicator = ta.momentum.RSIIndicator(data.Close, window=rsi_window)\n",
    "\n",
    "data['rsi'] = rsi_indicator.rsi()\n",
    "data['buy_signal'] = data['rsi'] < rsi_lower\n",
    "#data['sell_signal'] = data['rsi'] > rsi_upper\n",
    "data = data.dropna()"
   ]
  },
  {
   "cell_type": "code",
   "execution_count": 11,
   "id": "5e9c3c08",
   "metadata": {},
   "outputs": [
    {
     "name": "stdout",
     "output_type": "stream",
     "text": [
      "----------- Bactesting Results -----------\n",
      "******************************************\n",
      "\n",
      "RSI Limits: Buy below 29, Sell above nan\n",
      "Commission per trade: 0.125%\n",
      "Stop Loss: 10.74%\n",
      "Take Profit: 12.99%\n",
      "Number of Shares per Trade: 485\n",
      "Margin Account Requirement: 50.00%\n",
      "Maintenance Margin Requirement: 30.00%\n",
      "Annual Borrow Rate: 1.250%\n",
      "Adjusted Borrow Rate per 5 min: 0.000064%\n",
      "\n",
      "Initial Capital: $1,000,000.00\n",
      "Final Capital: $1,418,819.00\n",
      "Net Profit: $418,819.00\n",
      "Return on Investment: 41.88%\n",
      "\n",
      "******************************************\n",
      "------------------------------------------\n"
     ]
    },
    {
     "data": {
      "image/png": "[encoded data removed]",
      "text/plain": [
       "<Figure size 1200x600 with 1 Axes>"
      ]
     },
     "metadata": {},
     "output_type": "display_data"
    }
   ],
   "source": [
    "capital = 1_000_000\n",
    "active_long_positions: list[Position] = []\n",
    "portfolio_values = [capital]\n",
    "\n",
    "for i, row in data.iterrows():\n",
    "    # -- LONG ACTIVE ORDERS -- #\n",
    "    for position in active_long_positions.copy():\n",
    "        # Stop Loss or take profit Check\n",
    "        if row.Close > position.tp or row.Close < position.sl:\n",
    "            # Add profits / losses to capital\n",
    "            capital += row.Close * position.n_shares * (1-COM)\n",
    "            #Remove position from active pos\n",
    "            active_long_positions.remove(position)\n",
    "\n",
    "    # -- LONG -- #\n",
    "    # Check Signal\n",
    "    if row.buy_signal:\n",
    "        cost = row.Close * N_SHARES * (1 + COM)\n",
    "        # Do we have enough capital cash?\n",
    "        if capital > cost:\n",
    "            # Discount cash\n",
    "            capital -= cost\n",
    "            # Add position to portfolio\n",
    "            pos = Position(\n",
    "                ticker='AAPL',\n",
    "                n_shares=N_SHARES,\n",
    "                price=row['Close'],\n",
    "                sl=row['Close'] * (1 - STOP_LOSS),\n",
    "                tp=row['Close'] * (1 + TAKE_PROFIT),\n",
    "                time=row['Datetime']\n",
    "            )\n",
    "            active_long_positions.append(pos)\n",
    "\n",
    "    portfolio_values.append(get_portfolio_value(capital, active_long_positions, row.Close, N_SHARES))\n",
    "\n",
    "#At the end of the backtesting, we should close all active positions\n",
    "capital += row.Close * len(active_long_positions) * N_SHARES * (1-COM)\n",
    "active_long_positions = []\n",
    "\n",
    "print_results(capital, 1_000_000, portfolio_values,\n",
    "              rsi_lower, np.NaN, COM, STOP_LOSS, TAKE_PROFIT,\n",
    "              N_SHARES, INITIAL_MARGIN, MAINT_MARGIN, BORROW_RATE, ADJ_BORROW_RATE)"
   ]
  },
  {
   "cell_type": "code",
   "execution_count": 12,
   "id": "d2dfc675",
   "metadata": {},
   "outputs": [
    {
     "name": "stdout",
     "output_type": "stream",
     "text": [
      "Sharpe Ratio: 1.3935\n",
      "Sortino Ratio: 1.2678\n"
     ]
    }
   ],
   "source": [
    "df = pd.DataFrame()\n",
    "df['Value'] = portfolio_values\n",
    "df['rets'] = df.Value.pct_change()\n",
    "df.dropna(inplace=True)\n",
    "\n",
    "mean = df.rets.mean()\n",
    "std = df.rets.std()\n",
    "down_risk = df.rets[df.rets < 0].fillna(0).std()\n",
    "\n",
    "annual_rets = mean * (60 * 6.5 * 252 / 5)\n",
    "annual_std = std * np.sqrt(60 * 6.5 * 252 / 5)\n",
    "annual_down_risk = down_risk * np.sqrt(60 * 6.5 * 252 / 5)\n",
    "\n",
    "print(f'Sharpe Ratio: {annual_rets / annual_std:,.4f}')\n",
    "print(f'Sortino Ratio: {annual_rets / annual_down_risk:,.4f}')"
   ]
  }
 ],
 "metadata": {
  "kernelspec": {
   "display_name": "Python 3",
   "language": "python",
   "name": "python3"
  },
  "language_info": {
   "codemirror_mode": {
    "name": "ipython",
    "version": 3
   },
   "file_extension": ".py",
   "mimetype": "text/x-python",
   "name": "python",
   "nbconvert_exporter": "python",
   "pygments_lexer": "ipython3",
   "version": "3.13.3"
  }
 },
 "nbformat": 4,
 "nbformat_minor": 5
}
